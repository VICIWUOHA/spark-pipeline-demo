{
 "cells": [
  {
   "cell_type": "markdown",
   "metadata": {},
   "source": [
    "#### SUBMISSION"
   ]
  },
  {
   "cell_type": "markdown",
   "metadata": {},
   "source": [
    "#### COMMANDS USED IN CREATING FS\n",
    "\n",
    "- `mkdir spark-pipeline`\n",
    "\n",
    "- `mkdir data && mkdir submission && cd submission && touch wk78_submission.ipynb`\n",
    "\n",
    "- `cd data && mkdir json`\n",
    "\n"
   ]
  },
  {
   "cell_type": "markdown",
   "metadata": {},
   "source": []
  },
  {
   "cell_type": "markdown",
   "metadata": {},
   "source": [
    "## SPARK PIPELINE"
   ]
  },
  {
   "cell_type": "code",
   "execution_count": null,
   "metadata": {},
   "outputs": [],
   "source": [
    "data_base_path = \"content/drive/Mydrive/\"\n",
    "\n",
    "\n",
    "spark = Sparksession().getOrCreate()"
   ]
  }
 ],
 "metadata": {
  "language_info": {
   "name": "python"
  }
 },
 "nbformat": 4,
 "nbformat_minor": 2
}
